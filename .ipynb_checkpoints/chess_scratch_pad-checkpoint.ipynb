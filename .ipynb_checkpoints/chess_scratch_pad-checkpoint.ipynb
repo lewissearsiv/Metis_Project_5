{
 "cells": [
  {
   "cell_type": "code",
   "execution_count": null,
   "metadata": {},
   "outputs": [],
   "source": [
    "import chess\n",
    "import random\n",
    "import numpy as np\n",
    "import pandas as pd"
   ]
  },
  {
   "cell_type": "code",
   "execution_count": null,
   "metadata": {},
   "outputs": [],
   "source": [
    "#First lets write a function that gives us every moves\n",
    "def get_possible_moves(board_):\n",
    "    string = str(board_.legal_moves)\n",
    "    moves_section = string[string.find('(')+1:len(string)-2]\n",
    "    moves = moves_section.replace(' ','')\n",
    "    return moves.split(',')\n",
    "\n",
    "# This is a function that tells the computer to make a random move\n",
    "def computer_random_move(board_,moves_):\n",
    "    all_moves = get_possible_moves(board_)\n",
    "    move = random.choice(all_moves)\n",
    "    board_.push_san(move)\n",
    "    moves_.append(move)\n",
    "    if board_.is_game_over():\n",
    "            print('Game Over!')\n",
    "            print(moves)\n",
    "    return board_\n",
    "\n",
    "#This is how you make a move and reveal a board\n",
    "def my_move(move,board_,moves_):\n",
    "    possible_moves = get_possible_moves(board_)\n",
    "    if move not in possible_moves:\n",
    "        return \"Not a possible move.\"\n",
    "    else:\n",
    "        board_.push_san(move)\n",
    "        moves_.append(move)\n",
    "        if board_.is_game_over():\n",
    "            print('Game Over!')\n",
    "            print(board.result())\n",
    "            print(moves)\n",
    "    return board_\n",
    "\n",
    "def go_back(board_,moves_):\n",
    "    board_.pop()\n",
    "    moves_.pop()\n",
    "    return board_"
   ]
  },
  {
   "cell_type": "code",
   "execution_count": null,
   "metadata": {},
   "outputs": [],
   "source": [
    "#This initializes the game and makes an empty list to record moves\n",
    "board = chess.Board()\n",
    "moves = []"
   ]
  },
  {
   "cell_type": "code",
   "execution_count": null,
   "metadata": {},
   "outputs": [],
   "source": [
    "#Lets simulate a game!\n",
    "board = chess.Board()\n",
    "moves = []\n",
    "counter = 0\n",
    "while counter < 90:\n",
    "    computer_random_move(board,moves)\n",
    "    if board.is_game_over():\n",
    "        break\n",
    "    counter += 1"
   ]
  },
  {
   "cell_type": "code",
   "execution_count": null,
   "metadata": {},
   "outputs": [],
   "source": [
    "board"
   ]
  },
  {
   "cell_type": "code",
   "execution_count": null,
   "metadata": {},
   "outputs": [],
   "source": [
    "#Let's make the computer a little smarter.\n",
    "\n",
    "def computer_random_move_with_checkmate(board_,moves_):\n",
    "    \n",
    "    #Extract all possible moves\n",
    "    all_moves = get_possible_moves(board_)\n",
    "    \n",
    "    #Find checkmate if it exists\n",
    "    for move in all_moves:\n",
    "        if move.find('#') != -1:\n",
    "            board_.push_san(move)\n",
    "            moves_.append(move)\n",
    "            print('Game Over!')\n",
    "            print(moves)\n",
    "            return board_\n",
    "    \n",
    "    #Otherwise make a random move\n",
    "    move = random.choice(all_moves)\n",
    "    board_.push_san(move)\n",
    "    moves_.append(move)\n",
    "    if board_.is_game_over():\n",
    "            print('Game Over!')\n",
    "            print(board.result())\n",
    "            print(moves)\n",
    "    return board_"
   ]
  },
  {
   "cell_type": "code",
   "execution_count": null,
   "metadata": {},
   "outputs": [],
   "source": [
    "#Lets simulate a slightly smarter game!\n",
    "board = chess.Board()\n",
    "moves = []\n",
    "counter = 0\n",
    "while counter < 200:\n",
    "    computer_random_move_with_checkmate(board,moves)\n",
    "    if board.is_game_over():\n",
    "        break\n",
    "    counter += 1"
   ]
  },
  {
   "cell_type": "code",
   "execution_count": null,
   "metadata": {},
   "outputs": [],
   "source": [
    "board"
   ]
  },
  {
   "cell_type": "markdown",
   "metadata": {},
   "source": [
    "So even with just a simplt search for checkmate that move, sometimes the computer can checkmate itsself. Now how do we designate peices."
   ]
  },
  {
   "cell_type": "markdown",
   "metadata": {},
   "source": [
    "Lets make the computer a little smarter. It will now try to optimize for the value of certain pieces it can take. This program will have \"Depth 1\". This means that it will only optimize for its current move. It will not be able to consider future moves. We have some helper functions to start.\n",
    "\n",
    "The how_many_points function kindof works as a work horse function behind the scenes."
   ]
  },
  {
   "cell_type": "code",
   "execution_count": null,
   "metadata": {},
   "outputs": [],
   "source": [
    "def piece_type(square):\n",
    "    num = chess.parse_square(square)\n",
    "    piece = board.piece_at(num)\n",
    "    return piece.piece_type\n",
    "\n",
    "# Maps the type of piece to the ammount of points it corresponds too.\n",
    "point_map = {chess.KING: 1000, chess.QUEEN: 9, chess.ROOK: 5, chess.KNIGHT: 3, chess.BISHOP: 3, chess.PAWN: 1}\n",
    "point_map_equals = {'=Q': 9, '=R': 5, '=B': 5, '=N': 5}\n",
    "\n",
    "def how_many_points(move,board_):\n",
    "    \n",
    "    '''This function takes a move and a board and returns the points developed \n",
    "    for just this move'''\n",
    "    \n",
    "    #obviously if the move is checkmate\n",
    "    if move.find('#') != -1:\n",
    "        return 99999\n",
    "    \n",
    "    #This is a pawn getting to the other side with taking a piece\n",
    "    elif move.find('=') != -1 and move.find('x') != -1:\n",
    "        cleaned_move = move.replace('+','')\n",
    "        square = cleaned_move[-4]+cleaned_move[-3]\n",
    "        piece = piece_type(square)\n",
    "        points = point_map[piece]\n",
    "        new_points_piece = point_map_equals[cleaned_move[-2]+cleaned_move[-1]]\n",
    "        total_points = points + new_points_piece\n",
    "        return total_points\n",
    "    \n",
    "    #This is a pawn getting to the other side with taking a piece\n",
    "    elif move.find('=') != -1:\n",
    "        cleaned_move = move.replace('+','')\n",
    "        what_piece = cleaned_move[-2]+cleaned_move[-1]\n",
    "        points = point_map_equals[what_piece]\n",
    "        return points\n",
    "    \n",
    "    #If it is a take, how many points?\n",
    "    elif move.find('x') != -1:\n",
    "        cleaned_move = move.replace('+','')\n",
    "        square = cleaned_move[-2]+cleaned_move[-1]\n",
    "        try:\n",
    "            piece = piece_type(square)\n",
    "        #This exception is for the En Passant\n",
    "        except:\n",
    "            return 1\n",
    "        points = point_map[piece]\n",
    "        return points\n",
    "    \n",
    "    #Castling is a little better than nothing\n",
    "    elif move == '0-0-0' or move == '0-0':\n",
    "        return 0.5\n",
    "    \n",
    "    #Not taking anything is 0 points\n",
    "    else:\n",
    "        return 0"
   ]
  },
  {
   "cell_type": "code",
   "execution_count": null,
   "metadata": {},
   "outputs": [],
   "source": [
    "def computer_move_depth_1(board_,moves_):\n",
    "    \n",
    "    \n",
    "    all_moves = get_possible_moves(board_)\n",
    "    points_per_move = [how_many_points(move,board_) for move in all_moves]\n",
    "    \n",
    "    #All Zero\n",
    "    if max(points_per_move) == 0:\n",
    "        move = random.choice(all_moves)\n",
    "        board_.push_san(move)\n",
    "        moves_.append(move)\n",
    "        if board_.is_game_over():\n",
    "            print('Game Over!')\n",
    "            print(moves)\n",
    "        return board_ \n",
    "    \n",
    "    else:\n",
    "        indices = [i for i, value in enumerate(points_per_move) if value == max(points_per_move)]\n",
    "        max_value_moves = [all_moves[ind] for ind in indices]\n",
    "        move = random.choice(max_value_moves)\n",
    "        board_.push_san(move)\n",
    "        moves_.append(move)\n",
    "        if board_.is_game_over():\n",
    "            print('Game Over!')\n",
    "            print(board.result())\n",
    "            print(moves)\n",
    "        return board_ "
   ]
  },
  {
   "cell_type": "code",
   "execution_count": null,
   "metadata": {},
   "outputs": [],
   "source": [
    "#Lets simulate a game!\n",
    "board = chess.Board()\n",
    "moves = []\n",
    "counter = 0\n",
    "while counter < 20:\n",
    "    computer_move_depth_1(board,moves)\n",
    "    if board.is_game_over():\n",
    "        break\n",
    "    counter += 1"
   ]
  },
  {
   "cell_type": "code",
   "execution_count": null,
   "metadata": {},
   "outputs": [],
   "source": [
    "computer_move_depth_1(board,moves)"
   ]
  },
  {
   "cell_type": "markdown",
   "metadata": {},
   "source": [
    "These are starting to look like real games! That code is not too intelligent. Lets take it up a notch. We will create a new function that will make the computer think 2 moves ahead. No more, no less! For this kind of mindset, we will need a point system."
   ]
  },
  {
   "cell_type": "code",
   "execution_count": null,
   "metadata": {},
   "outputs": [],
   "source": [
    "def computer_move_depth_2(board_,moves_):\n",
    "    \n",
    "    #Extract the state of the board\n",
    "    board_state = board_.fen()\n",
    "    \n",
    "    #Extract all possible moves\n",
    "    all_moves = get_possible_moves(board_)\n",
    "    \n",
    "    #This will hold net points per move\n",
    "    move_points = []\n",
    "    \n",
    "    for move in all_moves:\n",
    "        \n",
    "        # reset the board\n",
    "        \n",
    "        #We will keep a counter of net points. This will be minimized.\n",
    "        net_points = 0\n",
    "        first_move_points = how_many_points(move, board_)\n",
    "        \n",
    "        #Now make the move and calculate the max points for the next move\n",
    "        board_.push_san(move)\n",
    "        all_moves_depth_2 = get_possible_moves(board_)\n",
    "        points = [how_many_points(new_move,board_) for new_move in all_moves_depth_2]\n",
    "        \n",
    "        #Aggregate points change\n",
    "        net_points = first_move_points - max(points)\n",
    "        move_points.append(net_points)\n",
    "        \n",
    "        #revert board\n",
    "        board_.pop()\n",
    "        \n",
    "    \n",
    "    #Make the move here\n",
    "    max_indices = [i for i, val in enumerate(move_points) if val == max(move_points)]\n",
    "    best_moves = [all_moves[i] for i in max_indices]\n",
    "    final_move = random.choice(best_moves)\n",
    "    board_.push_san(final_move)\n",
    "    moves_.append(final_move)\n",
    "    if board_.is_game_over():\n",
    "        print('Game Over!')\n",
    "        print(board.result())\n",
    "        print(moves)\n",
    "    return board_"
   ]
  },
  {
   "cell_type": "code",
   "execution_count": null,
   "metadata": {},
   "outputs": [],
   "source": [
    "#Lets simulate a game!\n",
    "\n",
    "board = chess.Board()\n",
    "moves = []\n",
    "counter = 0\n",
    "while counter < 20:\n",
    "    computer_move_depth_2(board,moves)\n",
    "    if board.is_game_over():\n",
    "        break\n",
    "    counter += 1"
   ]
  },
  {
   "cell_type": "code",
   "execution_count": null,
   "metadata": {},
   "outputs": [],
   "source": [
    "board"
   ]
  },
  {
   "cell_type": "code",
   "execution_count": null,
   "metadata": {},
   "outputs": [],
   "source": [
    "#Reset the board and hit command enter in the cell below to see each move!\n",
    "#It's pretty suprising how good some of the moves are.\n",
    "board = chess.Board()\n",
    "moves = []"
   ]
  },
  {
   "cell_type": "code",
   "execution_count": null,
   "metadata": {},
   "outputs": [],
   "source": [
    "computer_move_depth_2(board,moves)"
   ]
  },
  {
   "cell_type": "markdown",
   "metadata": {},
   "source": [
    "We'll try to do 3 moves deep before we generalize."
   ]
  },
  {
   "cell_type": "code",
   "execution_count": null,
   "metadata": {},
   "outputs": [],
   "source": [
    "def computer_move_depth_3(board_,moves_):\n",
    "\n",
    "    \n",
    "    #Extract all possible moves at depth one\n",
    "    all_moves_depth_1 = get_possible_moves(board_)\n",
    "\n",
    "    #This will hold net points per move\n",
    "    move_points = []\n",
    "    \n",
    "    for move_1 in all_moves_depth_1:\n",
    "        \n",
    "        if move_1.find('#') != -1:\n",
    "            board_.push_san(move_1)\n",
    "            moves_.append(move_1)\n",
    "            print('Game Over!')\n",
    "            print(board.result())\n",
    "            print(moves)\n",
    "            return board_\n",
    "        \n",
    "        #This is the points from the initial move\n",
    "        first_move_points = how_many_points(move_1, board_)\n",
    "        \n",
    "        #Now make the move and calculate the max points for the next two moves\n",
    "        board_.push_san(move_1)\n",
    "        all_moves_depth_2 = get_possible_moves(board_)\n",
    "        if board_.is_game_over():\n",
    "            print('Game Over!')\n",
    "            print(board.result())\n",
    "            print(moves)\n",
    "            return board_\n",
    "        \n",
    "        \n",
    "        #This quantify's the response to all moves\n",
    "        response_move_points = []\n",
    "        for move_2 in all_moves_depth_2:\n",
    "            second_move_points = how_many_points(move_2, board_)\n",
    "            board_.push_san(move_2)\n",
    "            all_moves_depth_3 = get_possible_moves(board_)\n",
    "            points_3 = [how_many_points(new_move,board_) for new_move in all_moves_depth_3]\n",
    "            response_move_points.append(second_move_points - max(points_3))\n",
    "            #revert board\n",
    "            board_.pop()\n",
    "        \n",
    "        #Aggregate points change for current move\n",
    "        retaliation_points = max(response_move_points)\n",
    "        net_points = first_move_points - retaliation_points\n",
    "        move_points.append(net_points)\n",
    "        #revert board\n",
    "        board_.pop()\n",
    "        \n",
    "    \n",
    "    #Make the move here\n",
    "    max_indices = [i for i, val in enumerate(move_points) if val == max(move_points)]\n",
    "    best_moves = [all_moves_depth_1[i] for i in max_indices]\n",
    "    final_move = random.choice(best_moves)\n",
    "    board_.push_san(final_move)\n",
    "    moves_.append(final_move)\n",
    "    if board_.is_game_over():\n",
    "        print('Game Over!')\n",
    "        print(board.result())\n",
    "        print(moves)\n",
    "    return board_"
   ]
  },
  {
   "cell_type": "code",
   "execution_count": null,
   "metadata": {},
   "outputs": [],
   "source": [
    "#Lets simulate a game!\n",
    "\n",
    "board = chess.Board()\n",
    "moves = []\n",
    "counter = 0\n",
    "while counter < 50:\n",
    "    computer_move_depth_3(board,moves)\n",
    "    if board.is_game_over():\n",
    "        break\n",
    "    counter += 1"
   ]
  },
  {
   "cell_type": "code",
   "execution_count": null,
   "metadata": {},
   "outputs": [],
   "source": [
    "board"
   ]
  },
  {
   "cell_type": "markdown",
   "metadata": {},
   "source": [
    "Now let's do something interesting. We're going to have depth3 play depth2 and see who wins."
   ]
  },
  {
   "cell_type": "code",
   "execution_count": null,
   "metadata": {},
   "outputs": [],
   "source": [
    "#Lets simulate a game!\n",
    "board = chess.Board()\n",
    "moves = []\n",
    "counter = 0\n",
    "while counter < 40:\n",
    "    #depth3 moves white\n",
    "    computer_move_depth_3(board,moves)\n",
    "    if board.is_game_over():\n",
    "        break\n",
    "    #depth2 moves black\n",
    "    computer_move_depth_2(board,moves)\n",
    "    if board.is_game_over():\n",
    "        break\n",
    "    counter += 1"
   ]
  },
  {
   "cell_type": "code",
   "execution_count": null,
   "metadata": {},
   "outputs": [],
   "source": [
    "board"
   ]
  },
  {
   "cell_type": "markdown",
   "metadata": {},
   "source": [
    "That's awesome! With Depth 3, we totally dominated Depth 2 which is to be expected. What about if Depth 3 plays black?"
   ]
  },
  {
   "cell_type": "code",
   "execution_count": null,
   "metadata": {},
   "outputs": [],
   "source": [
    "#Lets simulate a game!\n",
    "board = chess.Board()\n",
    "moves = []\n",
    "counter = 0\n",
    "while counter < 40:\n",
    "    #depth2 moves white\n",
    "    computer_move_depth_2(board,moves)\n",
    "    if board.is_game_over():\n",
    "        break\n",
    "    #depth3 moves black\n",
    "    computer_move_depth_3(board,moves)\n",
    "    if board.is_game_over():\n",
    "        break\n",
    "    counter += 1"
   ]
  },
  {
   "cell_type": "code",
   "execution_count": null,
   "metadata": {},
   "outputs": [],
   "source": [
    "computer_move_depth_2(board,moves)"
   ]
  },
  {
   "cell_type": "markdown",
   "metadata": {},
   "source": [
    "Not a big suprise there. The depth_3 board has a huge advantage."
   ]
  },
  {
   "cell_type": "code",
   "execution_count": null,
   "metadata": {},
   "outputs": [],
   "source": [
    "def inner_move_depth_3(board_, return_val):\n",
    "\n",
    "    \n",
    "    #Extract all possible moves at depth one\n",
    "    all_moves_depth_1 = get_possible_moves(board_)\n",
    "\n",
    "    #This will hold net points per move\n",
    "    move_points = []\n",
    "    \n",
    "    for move_1 in all_moves_depth_1:\n",
    "        \n",
    "        if move_1.find('#') != -1:\n",
    "            board_.push_san(move_1)\n",
    "            moves_.append(move_1)\n",
    "            print('Game Over!')\n",
    "            print(board_.result())\n",
    "            print(moves_)\n",
    "            return board_\n",
    "        \n",
    "        #This is the points from the initial move\n",
    "        first_move_points = how_many_points(move_1, board_)\n",
    "        \n",
    "        #Now make the move and calculate the max points for the next two moves\n",
    "        board_.push_san(move_1)\n",
    "        all_moves_depth_2 = get_possible_moves(board_)\n",
    "        if board_.is_game_over():\n",
    "            print('Game Over!')\n",
    "            print(board_.result())\n",
    "            print(moves)\n",
    "            return board_\n",
    "        \n",
    "        \n",
    "        #This quantify's the response to all moves\n",
    "        response_move_points = []\n",
    "        for move_2 in all_moves_depth_2:\n",
    "            second_move_points = how_many_points(move_2, board_)\n",
    "            board_.push_san(move_2)\n",
    "            all_moves_depth_3 = get_possible_moves(board_)\n",
    "            points_3 = [how_many_points(new_move,board_) for new_move in all_moves_depth_3]\n",
    "            response_move_points.append(second_move_points - max(points_3))\n",
    "            #revert board\n",
    "            board_.pop()\n",
    "            \n",
    "            #Aggregate points change for current move\n",
    "        retaliation_points = max(response_move_points)\n",
    "        net_points = first_move_points - retaliation_points\n",
    "        move_points.append(net_points)\n",
    "        #revert board\n",
    "        board_.pop()\n",
    "        \n",
    "    \n",
    "    #Make the move here\n",
    "    max_points = max(move_points)\n",
    "    max_indices = [i for i, val in enumerate(move_points) if val == max_points]\n",
    "    best_moves = [all_moves_depth_1[i] for i in max_indices]\n",
    "    #Just if you're interested for practice or whatever\n",
    "    if return_val == 'moves':\n",
    "        return [[move, max_points] for move in best_moves]\n",
    "    if return_val == 'points':\n",
    "        return max_points"
   ]
  },
  {
   "cell_type": "code",
   "execution_count": null,
   "metadata": {},
   "outputs": [],
   "source": [
    "board = chess.Board()\n",
    "moves = []\n",
    "counter = 0\n",
    "while counter < 10:\n",
    "    #depth2 moves white\n",
    "    computer_move_depth_2(board,moves)\n",
    "    if board.is_game_over():\n",
    "        break\n",
    "    counter += 1"
   ]
  },
  {
   "cell_type": "code",
   "execution_count": null,
   "metadata": {},
   "outputs": [],
   "source": [
    "board"
   ]
  },
  {
   "cell_type": "code",
   "execution_count": null,
   "metadata": {},
   "outputs": [],
   "source": [
    "#What are the best moves here? There you go.\n",
    "inner_move_depth_3(board, 'moves')"
   ]
  },
  {
   "cell_type": "markdown",
   "metadata": {},
   "source": [
    "Now we can use the second function of inner_move_depth_3 to go **four moves deep**."
   ]
  },
  {
   "cell_type": "code",
   "execution_count": null,
   "metadata": {},
   "outputs": [],
   "source": [
    "def computer_move_depth_4(board_,moves_):\n",
    "    \n",
    "    #Extract all possible moves\n",
    "    all_moves = get_possible_moves(board_)\n",
    "    \n",
    "    #This will hold net points per move\n",
    "    move_points = []\n",
    "    \n",
    "    for move in all_moves:\n",
    "        \n",
    "        # reset the board\n",
    "        \n",
    "        #We will keep a counter of net points. This will be minimized.\n",
    "        net_points = 0\n",
    "        first_move_points = how_many_points(move, board_)\n",
    "        \n",
    "        #Now make the move and calculate the max points for the next move\n",
    "        board_.push_san(move)\n",
    "        resulting_points = inner_move_depth_3(board_, 'points')\n",
    "        \n",
    "        #Aggregate points change\n",
    "        net_points = first_move_points - resulting_points\n",
    "        move_points.append(net_points)\n",
    "        \n",
    "        #revert board\n",
    "        board_.pop()\n",
    "        \n",
    "    \n",
    "    #Make the move here\n",
    "    max_indices = [i for i, val in enumerate(move_points) if val == max(move_points)]\n",
    "    best_moves = [all_moves[i] for i in max_indices]\n",
    "    final_move = random.choice(best_moves)\n",
    "    board_.push_san(final_move)\n",
    "    moves_.append(final_move)\n",
    "    if board_.is_game_over():\n",
    "        print('Game Over!')\n",
    "        print(board_.result())\n",
    "        print(moves_)\n",
    "    return board_"
   ]
  },
  {
   "cell_type": "code",
   "execution_count": null,
   "metadata": {},
   "outputs": [],
   "source": [
    "board = chess.Board()\n",
    "moves = []\n",
    "counter = 0\n",
    "while counter < 20:\n",
    "    #depth2 moves white\n",
    "    computer_move_depth_4(board,moves)\n",
    "    if board.is_game_over():\n",
    "        break\n",
    "    counter += 1"
   ]
  },
  {
   "cell_type": "code",
   "execution_count": null,
   "metadata": {},
   "outputs": [],
   "source": [
    "board"
   ]
  },
  {
   "cell_type": "code",
   "execution_count": null,
   "metadata": {},
   "outputs": [],
   "source": []
  }
 ],
 "metadata": {
  "kernelspec": {
   "display_name": "Python 3",
   "language": "python",
   "name": "python3"
  },
  "language_info": {
   "codemirror_mode": {
    "name": "ipython",
    "version": 3
   },
   "file_extension": ".py",
   "mimetype": "text/x-python",
   "name": "python",
   "nbconvert_exporter": "python",
   "pygments_lexer": "ipython3",
   "version": "3.7.7"
  }
 },
 "nbformat": 4,
 "nbformat_minor": 4
}
